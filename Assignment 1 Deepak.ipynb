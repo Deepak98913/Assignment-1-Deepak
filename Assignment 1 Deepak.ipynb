{
 "cells": [
  {
   "cell_type": "code",
   "execution_count": 1,
   "id": "c2a4de98-e137-472b-b2ed-edb8f459b862",
   "metadata": {},
   "outputs": [
    {
     "name": "stdout",
     "output_type": "stream",
     "text": [
      "Before swap x: 10 and y:20\n",
      "After swap x: 20 and y:10\n"
     ]
    }
   ],
   "source": [
    "x = 10\n",
    "y = 20\n",
    "\n",
    "print (f\"Before swap x: {x} and y:{y}\")\n",
    "x,y = y,x\n",
    "print (f\"After swap x: {x} and y:{y}\")"
   ]
  },
  {
   "cell_type": "code",
   "execution_count": 2,
   "id": "a5c52ac2-f789-47c9-b804-a66e0435a757",
   "metadata": {},
   "outputs": [
    {
     "name": "stdin",
     "output_type": "stream",
     "text": [
      "Enter the length of the rectangle 5\n",
      "Enter the width of the rectangle 2\n"
     ]
    },
    {
     "name": "stdout",
     "output_type": "stream",
     "text": [
      "The area of the rectangle is:  10.0\n"
     ]
    }
   ],
   "source": [
    "length = float(input(\"Enter the length of the rectangle\"))\n",
    "width = float(input(\"Enter the width of the rectangle\"))\n",
    "area = length*width\n",
    "print(\"The area of the rectangle is: \", area)"
   ]
  },
  {
   "cell_type": "code",
   "execution_count": 6,
   "id": "f0855b34-a987-4f59-bc2c-15db2c70bc9d",
   "metadata": {},
   "outputs": [
    {
     "name": "stdin",
     "output_type": "stream",
     "text": [
      "Enter temperature in celsius:  30\n"
     ]
    },
    {
     "name": "stdout",
     "output_type": "stream",
     "text": [
      "30.0 celsius is equal to 86.00 Fahrenheit\n"
     ]
    }
   ],
   "source": [
    "celsius_temperature = float(input(\"Enter temperature in celsius: \"))\n",
    "fahrenheit_temperature = (celsius_temperature*9/5) + 32\n",
    "print(f\"{celsius_temperature} celsius is equal to {fahrenheit_temperature:.2f} Fahrenheit\")                         \n",
    "                            \n",
    "                            "
   ]
  },
  {
   "cell_type": "code",
   "execution_count": 7,
   "id": "ecd2b9ab-716a-4b8d-9a06-9829ab797d24",
   "metadata": {},
   "outputs": [
    {
     "name": "stdin",
     "output_type": "stream",
     "text": [
      "Enter a string: deepak\n"
     ]
    },
    {
     "name": "stdout",
     "output_type": "stream",
     "text": [
      "The lenght of the input string is: 6\n"
     ]
    }
   ],
   "source": [
    "input_string = input(\"Enter a string:\")\n",
    "string_length = len(input_string)\n",
    "print(\"The lenght of the input string is:\", string_length)"
   ]
  },
  {
   "cell_type": "code",
   "execution_count": 1,
   "id": "8742ce20-ec8e-434b-9103-f059a3527353",
   "metadata": {},
   "outputs": [
    {
     "name": "stdin",
     "output_type": "stream",
     "text": [
      "Enter a sentence:  my name is deepak\n"
     ]
    },
    {
     "name": "stdout",
     "output_type": "stream",
     "text": [
      "Number of vowels: 0\n",
      "Number of vowels: 0\n",
      "Number of vowels: 0\n",
      "Number of vowels: 0\n",
      "Number of vowels: 1\n",
      "Number of vowels: 1\n",
      "Number of vowels: 2\n",
      "Number of vowels: 2\n",
      "Number of vowels: 3\n",
      "Number of vowels: 3\n",
      "Number of vowels: 3\n",
      "Number of vowels: 3\n",
      "Number of vowels: 4\n",
      "Number of vowels: 5\n",
      "Number of vowels: 5\n",
      "Number of vowels: 6\n",
      "Number of vowels: 6\n"
     ]
    }
   ],
   "source": [
    "sentence = input(\"Enter a sentence: \")\n",
    "vowel_count = 0\n",
    "for char in sentence:\n",
    "    char_lower = char.lower()\n",
    "    if char_lower in \"aeiou\":\n",
    "     vowel_count += 1\n",
    "    print(\"Number of vowels:\",vowel_count)"
   ]
  },
  {
   "cell_type": "code",
   "execution_count": 2,
   "id": "175e36c0-353c-4c4a-8f4f-fdcf2b73a208",
   "metadata": {},
   "outputs": [
    {
     "name": "stdin",
     "output_type": "stream",
     "text": [
      "Enter a string:  deepak\n"
     ]
    },
    {
     "name": "stdout",
     "output_type": "stream",
     "text": [
      "reversed_string: kapeed\n"
     ]
    }
   ],
   "source": [
    "input_string = input(\"Enter a string: \")\n",
    "reversed_string = input_string[::-1]\n",
    "print(\"reversed_string:\", reversed_string)"
   ]
  },
  {
   "cell_type": "code",
   "execution_count": 26,
   "id": "5c0e3135-ed10-4ff5-97b6-773f7ee775ca",
   "metadata": {},
   "outputs": [
    {
     "name": "stdin",
     "output_type": "stream",
     "text": [
      "Enter a string:  deepak\n"
     ]
    },
    {
     "name": "stdout",
     "output_type": "stream",
     "text": [
      "The input string is not a palinderome.\n"
     ]
    }
   ],
   "source": [
    "input_string = input(\"Enter a string: \")\n",
    "cleaned_string = input_string.replace(\" \",\"\").lower()\n",
    "reversed_string = cleaned_string[::-1]\n",
    "if cleaned_string == reversed_string:\n",
    "    print(\"The input string is a palinderome.\")  \n",
    "else:\n",
    "    print(\"The input string is not a palinderome.\")    "
   ]
  },
  {
   "cell_type": "code",
   "execution_count": 31,
   "id": "1c2cdee7-a8d2-4f5c-9411-2244976c77cd",
   "metadata": {},
   "outputs": [
    {
     "name": "stdin",
     "output_type": "stream",
     "text": [
      "Enter a string: deepak\n"
     ]
    },
    {
     "name": "stdout",
     "output_type": "stream",
     "text": [
      "modified string without spaces: d\n",
      "modified string without spaces: de\n",
      "modified string without spaces: dee\n",
      "modified string without spaces: deep\n",
      "modified string without spaces: deepa\n",
      "modified string without spaces: deepak\n"
     ]
    }
   ],
   "source": [
    "input_string = input(\"Enter a string:\")\n",
    "modified_string = \"\"\n",
    "for char in input_string:\n",
    "    if char !=\" \":\n",
    "        modified_string +=  char\n",
    "    print(\"modified string without spaces:\", modified_string)    \n"
   ]
  },
  {
   "cell_type": "code",
   "execution_count": null,
   "id": "bd905093-e197-4c84-8ade-0f3377479d07",
   "metadata": {},
   "outputs": [],
   "source": []
  }
 ],
 "metadata": {
  "kernelspec": {
   "display_name": "Python 3 (ipykernel)",
   "language": "python",
   "name": "python3"
  },
  "language_info": {
   "codemirror_mode": {
    "name": "ipython",
    "version": 3
   },
   "file_extension": ".py",
   "mimetype": "text/x-python",
   "name": "python",
   "nbconvert_exporter": "python",
   "pygments_lexer": "ipython3",
   "version": "3.10.8"
  }
 },
 "nbformat": 4,
 "nbformat_minor": 5
}
